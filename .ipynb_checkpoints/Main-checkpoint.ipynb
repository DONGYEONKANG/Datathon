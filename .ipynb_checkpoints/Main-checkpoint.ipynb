{
 "cells": [
  {
   "cell_type": "code",
   "execution_count": 3,
   "id": "86dd7a0a",
   "metadata": {},
   "outputs": [],
   "source": [
    "import pandas as pd"
   ]
  },
  {
   "cell_type": "code",
   "execution_count": 2,
   "id": "bf78f560",
   "metadata": {},
   "outputs": [
    {
     "name": "stdout",
     "output_type": "stream",
     "text": [
      "Collecting package metadata (current_repodata.json): ...working... done\n",
      "Solving environment: ...working... done\n",
      "\n",
      "## Package Plan ##\n",
      "\n",
      "  environment location: C:\\Users\\gi\\anaconda3\\envs\\datathon\n",
      "\n",
      "  added / updated specs:\n",
      "    - pandas\n",
      "\n",
      "\n",
      "The following packages will be downloaded:\n",
      "\n",
      "    package                    |            build\n",
      "    ---------------------------|-----------------\n",
      "    numpy-1.21.5               |   py37ha4e8547_0           9 KB\n",
      "    numpy-base-1.21.5          |   py37hc2deb75_0         4.3 MB\n",
      "    pandas-1.3.4               |   py37h6214cd6_0         8.4 MB\n",
      "    ------------------------------------------------------------\n",
      "                                           Total:        12.7 MB\n",
      "\n",
      "The following NEW packages will be INSTALLED:\n",
      "\n",
      "  blas               pkgs/main/win-64::blas-1.0-mkl\n",
      "  bottleneck         pkgs/main/win-64::bottleneck-1.3.2-py37h2a96729_1\n",
      "  intel-openmp       pkgs/main/win-64::intel-openmp-2021.4.0-haa95532_3556\n",
      "  mkl                pkgs/main/win-64::mkl-2021.4.0-haa95532_640\n",
      "  mkl-service        pkgs/main/win-64::mkl-service-2.4.0-py37h2bbff1b_0\n",
      "  mkl_fft            pkgs/main/win-64::mkl_fft-1.3.1-py37h277e83a_0\n",
      "  mkl_random         pkgs/main/win-64::mkl_random-1.2.2-py37hf11a4ad_0\n",
      "  numexpr            pkgs/main/win-64::numexpr-2.8.1-py37hb80d3ca_0\n",
      "  numpy              pkgs/main/win-64::numpy-1.21.5-py37ha4e8547_0\n",
      "  numpy-base         pkgs/main/win-64::numpy-base-1.21.5-py37hc2deb75_0\n",
      "  pandas             pkgs/main/win-64::pandas-1.3.4-py37h6214cd6_0\n",
      "  pytz               pkgs/main/noarch::pytz-2021.3-pyhd3eb1b0_0\n",
      "\n",
      "\n",
      "\n",
      "Downloading and Extracting Packages\n",
      "\n",
      "pandas-1.3.4         | 8.4 MB    |            |   0% \n",
      "pandas-1.3.4         | 8.4 MB    |            |   1% \n",
      "pandas-1.3.4         | 8.4 MB    | 6          |   7% \n",
      "pandas-1.3.4         | 8.4 MB    | ##5        |  25% \n",
      "pandas-1.3.4         | 8.4 MB    | ###5       |  35% \n",
      "pandas-1.3.4         | 8.4 MB    | ####9      |  50% \n",
      "pandas-1.3.4         | 8.4 MB    | ######1    |  62% \n",
      "pandas-1.3.4         | 8.4 MB    | #######2   |  73% \n",
      "pandas-1.3.4         | 8.4 MB    | ########4  |  84% \n",
      "pandas-1.3.4         | 8.4 MB    | #########5 |  96% \n",
      "pandas-1.3.4         | 8.4 MB    | ########## | 100% \n",
      "\n",
      "numpy-1.21.5         | 9 KB      |            |   0% \n",
      "numpy-1.21.5         | 9 KB      | ########## | 100% \n",
      "numpy-1.21.5         | 9 KB      | ########## | 100% \n",
      "\n",
      "numpy-base-1.21.5    | 4.3 MB    |            |   0% \n",
      "numpy-base-1.21.5    | 4.3 MB    | #6         |  17% \n",
      "numpy-base-1.21.5    | 4.3 MB    | ###8       |  38% \n",
      "numpy-base-1.21.5    | 4.3 MB    | ######1    |  62% \n",
      "numpy-base-1.21.5    | 4.3 MB    | ########3  |  84% \n",
      "numpy-base-1.21.5    | 4.3 MB    | ########## | 100% \n",
      "Preparing transaction: ...working... done\n",
      "Verifying transaction: ...working... done\n",
      "Executing transaction: ...working... done\n"
     ]
    }
   ],
   "source": []
  },
  {
   "cell_type": "code",
   "execution_count": null,
   "id": "64afdd35",
   "metadata": {},
   "outputs": [],
   "source": []
  }
 ],
 "metadata": {
  "kernelspec": {
   "display_name": "Python 3 (ipykernel)",
   "language": "python",
   "name": "python3"
  },
  "language_info": {
   "codemirror_mode": {
    "name": "ipython",
    "version": 3
   },
   "file_extension": ".py",
   "mimetype": "text/x-python",
   "name": "python",
   "nbconvert_exporter": "python",
   "pygments_lexer": "ipython3",
   "version": "3.7.11"
  }
 },
 "nbformat": 4,
 "nbformat_minor": 5
}
