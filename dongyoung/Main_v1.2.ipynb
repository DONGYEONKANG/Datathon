{
 "cells": [
  {
   "cell_type": "markdown",
   "id": "d3c0aac1",
   "metadata": {},
   "source": [
    "# NETFLIX로 알아보는 문화 트렌드\n",
    "---\n",
    "0. [NETFILX 소개](#0-netfilx-소개)\n",
    "\n",
    "1. [데이터 수집](#1-데이터-수집)\n",
    "    - Netflix_Data\n",
    "    - Netflix_Original Data\n",
    "    - Rating_Data\n",
    "    - Netflix_Data + Netflix_Original Data + Rating_Data\n",
    "2. [데이터 전처리](#2-데이터-전처리)\n",
    "    - 결측치 수정 및 제거\n",
    "    - Feature engineering\n",
    "3. [데이터 EDA](#`)\n",
    "    - Netflix의 성장과정\n",
    "    - \n",
    "    \n",
    "4. 결론"
   ]
  },
  {
   "cell_type": "code",
   "execution_count": 2,
   "id": "3e4fe999",
   "metadata": {},
   "outputs": [
    {
     "name": "stdout",
     "output_type": "stream",
     "text": [
      "0.12.1.post1\n"
     ]
    }
   ],
   "source": [
    "import numpy as np\n",
    "import matplotlib.pyplot as plt\n",
    "import pandas as pd\n",
    "import seaborn as sns\n",
    "import warnings \n",
    "import folium\n",
    "\n",
    "print(folium.__version__)\n",
    "plt.style.use('ggplot')\n",
    "%config InlineBackend.figure_format = 'retina'\n",
    "warnings.filterwarnings(action='ignore')\n"
   ]
  },
  {
   "cell_type": "markdown",
   "id": "11e7dfeb",
   "metadata": {},
   "source": [
    "## 0. NETFILX 소개"
   ]
  },
  {
   "cell_type": "markdown",
   "id": "7b8be6aa",
   "metadata": {},
   "source": [
    "# NETFILX <img align = \"right\" src ='https://itep.sfo2.digitaloceanspaces.com/Netflix-blog-cover.jpg'>\n",
    "설립 : 1997. 8. 29.  \n",
    "주요사업 : OTT(Over-The-Top media service)  \n",
    "시가총액 : 1592억$  \n",
    "창업자 : Wilmot Reed Hastings, Jr."
   ]
  },
  {
   "cell_type": "markdown",
   "id": "66246e3f",
   "metadata": {},
   "source": [
    "## 1. 데이터 수집\n",
    "---\n"
   ]
  },
  {
   "cell_type": "markdown",
   "id": "6ab20ffa",
   "metadata": {},
   "source": [
    "### Netflix_Data\n",
    "</br>\n",
    "__✅COLUMNS__\n",
    "</br>\n",
    "\n",
    "| SHOW_ID | 영화나 티비쇼의 고유번호  |\n",
    "| --- | --- |\n",
    "| TYPE | 영화인지 티비쇼인지 구별 |\n",
    "| TITLE | 영화, 티비쇼의 제목 |\n",
    "| DIRECTOR | 영화감독 |\n",
    "| CAST | 영화, 쇼에 출연한 배우들 |\n",
    "| COUNTRY | 영화나 쇼가 제작된 나라 |\n",
    "| DATE_ADDED | 넷플릭스에 드라마나 영화가 방영된 날짜. 2008.01 ~ 2021.09.25 |\n",
    "| RELEASE_YEAR | 실제 드라마나 영화가 방영된 연도. 1925 ~ 2021 |\n",
    "| RATING | 영화/쇼의 시청 등급 |\n",
    "| DURATION | 방영기간 |\n",
    "| LISTED_IN | 장르 |\n",
    "| DESCRIPTION | 줄거리 |\n",
    "\n"
   ]
  },
  {
   "cell_type": "code",
   "execution_count": 3,
   "id": "868a373b",
   "metadata": {
    "scrolled": true
   },
   "outputs": [
    {
     "data": {
      "text/html": [
       "<div>\n",
       "<style scoped>\n",
       "    .dataframe tbody tr th:only-of-type {\n",
       "        vertical-align: middle;\n",
       "    }\n",
       "\n",
       "    .dataframe tbody tr th {\n",
       "        vertical-align: top;\n",
       "    }\n",
       "\n",
       "    .dataframe thead th {\n",
       "        text-align: right;\n",
       "    }\n",
       "</style>\n",
       "<table border=\"1\" class=\"dataframe\">\n",
       "  <thead>\n",
       "    <tr style=\"text-align: right;\">\n",
       "      <th></th>\n",
       "      <th>show_id</th>\n",
       "      <th>type</th>\n",
       "      <th>director</th>\n",
       "      <th>title</th>\n",
       "      <th>cast</th>\n",
       "      <th>country</th>\n",
       "      <th>date_added</th>\n",
       "      <th>description</th>\n",
       "      <th>duration</th>\n",
       "      <th>listed_in</th>\n",
       "      <th>rating</th>\n",
       "      <th>release_year</th>\n",
       "    </tr>\n",
       "  </thead>\n",
       "  <tbody>\n",
       "    <tr>\n",
       "      <th>0</th>\n",
       "      <td>s1</td>\n",
       "      <td>Movie</td>\n",
       "      <td>Kirsten Johnson</td>\n",
       "      <td>Dick Johnson Is Dead</td>\n",
       "      <td>Michael Hilow, Dick Johnson, Chad Knorr, Vasth...</td>\n",
       "      <td>United States</td>\n",
       "      <td>September 25, 2021</td>\n",
       "      <td>As her father nears the end of his life, filmm...</td>\n",
       "      <td>90 min</td>\n",
       "      <td>Documentaries</td>\n",
       "      <td>PG-13</td>\n",
       "      <td>2020</td>\n",
       "    </tr>\n",
       "    <tr>\n",
       "      <th>1</th>\n",
       "      <td>s2</td>\n",
       "      <td>TV Show</td>\n",
       "      <td>Nosipho Dumisa</td>\n",
       "      <td>Blood &amp; Water</td>\n",
       "      <td>Ama Qamata, Khosi Ngema, Gail Mabalane, Thaban...</td>\n",
       "      <td>South Africa</td>\n",
       "      <td>September 24, 2021</td>\n",
       "      <td>After crossing paths at a party, a Cape Town t...</td>\n",
       "      <td>2 Seasons</td>\n",
       "      <td>International TV Shows, TV Dramas, TV Mysteries</td>\n",
       "      <td>TV-MA</td>\n",
       "      <td>2021</td>\n",
       "    </tr>\n",
       "    <tr>\n",
       "      <th>2</th>\n",
       "      <td>s3</td>\n",
       "      <td>TV Show</td>\n",
       "      <td>Julien Leclercq</td>\n",
       "      <td>Ganglands</td>\n",
       "      <td>Sami Bouajila, Tracy Gotoas, Samuel Jouy, Nabi...</td>\n",
       "      <td>France</td>\n",
       "      <td>September 24, 2021</td>\n",
       "      <td>To protect his family from a powerful drug lor...</td>\n",
       "      <td>1 Season</td>\n",
       "      <td>Crime TV Shows, International TV Shows, TV Act...</td>\n",
       "      <td>TV-MA</td>\n",
       "      <td>2021</td>\n",
       "    </tr>\n",
       "    <tr>\n",
       "      <th>3</th>\n",
       "      <td>s4</td>\n",
       "      <td>TV Show</td>\n",
       "      <td>Jacquelyn C. Migdal</td>\n",
       "      <td>Jailbirds New Orleans</td>\n",
       "      <td>NONE</td>\n",
       "      <td>United States</td>\n",
       "      <td>September 24, 2021</td>\n",
       "      <td>Feuds, flirtations and toilet talk go down amo...</td>\n",
       "      <td>1 Season</td>\n",
       "      <td>Docuseries, Reality TV</td>\n",
       "      <td>TV-MA</td>\n",
       "      <td>2021</td>\n",
       "    </tr>\n",
       "    <tr>\n",
       "      <th>4</th>\n",
       "      <td>s5</td>\n",
       "      <td>TV Show</td>\n",
       "      <td>Raghav Subbu</td>\n",
       "      <td>Kota Factory</td>\n",
       "      <td>Mayur More, Jitendra Kumar, Ranjan Raj, Alam K...</td>\n",
       "      <td>India</td>\n",
       "      <td>September 24, 2021</td>\n",
       "      <td>In a city of coaching centers known to train I...</td>\n",
       "      <td>2 Seasons</td>\n",
       "      <td>International TV Shows, Romantic TV Shows, TV ...</td>\n",
       "      <td>TV-MA</td>\n",
       "      <td>2021</td>\n",
       "    </tr>\n",
       "  </tbody>\n",
       "</table>\n",
       "</div>"
      ],
      "text/plain": [
       "  show_id     type             director                  title  \\\n",
       "0      s1    Movie      Kirsten Johnson   Dick Johnson Is Dead   \n",
       "1      s2  TV Show       Nosipho Dumisa          Blood & Water   \n",
       "2      s3  TV Show      Julien Leclercq              Ganglands   \n",
       "3      s4  TV Show  Jacquelyn C. Migdal  Jailbirds New Orleans   \n",
       "4      s5  TV Show         Raghav Subbu           Kota Factory   \n",
       "\n",
       "                                                cast        country  \\\n",
       "0  Michael Hilow, Dick Johnson, Chad Knorr, Vasth...  United States   \n",
       "1  Ama Qamata, Khosi Ngema, Gail Mabalane, Thaban...   South Africa   \n",
       "2  Sami Bouajila, Tracy Gotoas, Samuel Jouy, Nabi...         France   \n",
       "3                                               NONE  United States   \n",
       "4  Mayur More, Jitendra Kumar, Ranjan Raj, Alam K...          India   \n",
       "\n",
       "           date_added                                        description  \\\n",
       "0  September 25, 2021  As her father nears the end of his life, filmm...   \n",
       "1  September 24, 2021  After crossing paths at a party, a Cape Town t...   \n",
       "2  September 24, 2021  To protect his family from a powerful drug lor...   \n",
       "3  September 24, 2021  Feuds, flirtations and toilet talk go down amo...   \n",
       "4  September 24, 2021  In a city of coaching centers known to train I...   \n",
       "\n",
       "    duration                                          listed_in rating  \\\n",
       "0     90 min                                      Documentaries  PG-13   \n",
       "1  2 Seasons    International TV Shows, TV Dramas, TV Mysteries  TV-MA   \n",
       "2   1 Season  Crime TV Shows, International TV Shows, TV Act...  TV-MA   \n",
       "3   1 Season                             Docuseries, Reality TV  TV-MA   \n",
       "4  2 Seasons  International TV Shows, Romantic TV Shows, TV ...  TV-MA   \n",
       "\n",
       "   release_year  \n",
       "0          2020  \n",
       "1          2021  \n",
       "2          2021  \n",
       "3          2021  \n",
       "4          2021  "
      ]
     },
     "execution_count": 3,
     "metadata": {},
     "output_type": "execute_result"
    }
   ],
   "source": [
    "path = '../data'\n",
    "Net_df = pd.read_csv(path+\"/fixed_netflix_df.csv\")\n",
    "Net_df.head()"
   ]
  },
  {
   "cell_type": "markdown",
   "id": "e46f673e",
   "metadata": {},
   "source": [
    "### Netflix_Original Data\n",
    "</br>  \n",
    "__✅ COLUMNS__  \n",
    "</br>  \n",
    "\n",
    "| TITEL | 영화, 티비쇼의 제목  |\n",
    "| --- | --- |\n",
    "| GENRE | 영화, 티비쇼의 장르 |\n",
    "| PREMIERE | 드라마나 영화가 방영된 날짜 |\n",
    "| RUNTIME | 방영기간 |\n",
    "| IMDB SCORE | IMDB에서의 평점 |\n",
    "| LANGUAGE | 제작언어 |"
   ]
  },
  {
   "cell_type": "code",
   "execution_count": 7,
   "id": "169592f3",
   "metadata": {},
   "outputs": [
    {
     "data": {
      "text/html": [
       "<div>\n",
       "<style scoped>\n",
       "    .dataframe tbody tr th:only-of-type {\n",
       "        vertical-align: middle;\n",
       "    }\n",
       "\n",
       "    .dataframe tbody tr th {\n",
       "        vertical-align: top;\n",
       "    }\n",
       "\n",
       "    .dataframe thead th {\n",
       "        text-align: right;\n",
       "    }\n",
       "</style>\n",
       "<table border=\"1\" class=\"dataframe\">\n",
       "  <thead>\n",
       "    <tr style=\"text-align: right;\">\n",
       "      <th></th>\n",
       "      <th>Title</th>\n",
       "      <th>Genre</th>\n",
       "      <th>Premiere</th>\n",
       "      <th>Runtime</th>\n",
       "      <th>IMDB Score</th>\n",
       "      <th>Language</th>\n",
       "    </tr>\n",
       "  </thead>\n",
       "  <tbody>\n",
       "    <tr>\n",
       "      <th>0</th>\n",
       "      <td>Enter the Anime</td>\n",
       "      <td>Documentary</td>\n",
       "      <td>August 5, 2019</td>\n",
       "      <td>58</td>\n",
       "      <td>2.5</td>\n",
       "      <td>English/Japanese</td>\n",
       "    </tr>\n",
       "    <tr>\n",
       "      <th>1</th>\n",
       "      <td>Dark Forces</td>\n",
       "      <td>Thriller</td>\n",
       "      <td>August 21, 2020</td>\n",
       "      <td>81</td>\n",
       "      <td>2.6</td>\n",
       "      <td>Spanish</td>\n",
       "    </tr>\n",
       "    <tr>\n",
       "      <th>2</th>\n",
       "      <td>The App</td>\n",
       "      <td>Science fiction/Drama</td>\n",
       "      <td>December 26, 2019</td>\n",
       "      <td>79</td>\n",
       "      <td>2.6</td>\n",
       "      <td>Italian</td>\n",
       "    </tr>\n",
       "    <tr>\n",
       "      <th>3</th>\n",
       "      <td>The Open House</td>\n",
       "      <td>Horror thriller</td>\n",
       "      <td>January 19, 2018</td>\n",
       "      <td>94</td>\n",
       "      <td>3.2</td>\n",
       "      <td>English</td>\n",
       "    </tr>\n",
       "    <tr>\n",
       "      <th>4</th>\n",
       "      <td>Kaali Khuhi</td>\n",
       "      <td>Mystery</td>\n",
       "      <td>October 30, 2020</td>\n",
       "      <td>90</td>\n",
       "      <td>3.4</td>\n",
       "      <td>Hindi</td>\n",
       "    </tr>\n",
       "  </tbody>\n",
       "</table>\n",
       "</div>"
      ],
      "text/plain": [
       "             Title                  Genre           Premiere  Runtime  \\\n",
       "0  Enter the Anime            Documentary     August 5, 2019       58   \n",
       "1      Dark Forces               Thriller    August 21, 2020       81   \n",
       "2          The App  Science fiction/Drama  December 26, 2019       79   \n",
       "3   The Open House        Horror thriller   January 19, 2018       94   \n",
       "4      Kaali Khuhi                Mystery   October 30, 2020       90   \n",
       "\n",
       "   IMDB Score          Language  \n",
       "0         2.5  English/Japanese  \n",
       "1         2.6           Spanish  \n",
       "2         2.6           Italian  \n",
       "3         3.2           English  \n",
       "4         3.4             Hindi  "
      ]
     },
     "execution_count": 7,
     "metadata": {},
     "output_type": "execute_result"
    }
   ],
   "source": [
    "OG_df = pd.read_csv(path+\"/NetflixOriginals.csv\", encoding=\"ISO-8859-1\")\n",
    "OG_df.head()"
   ]
  },
  {
   "cell_type": "code",
   "execution_count": 8,
   "id": "198f61bb",
   "metadata": {},
   "outputs": [],
   "source": [
    "# 넷플릭스 Original 인지 여부만 따지기 위해 Title만 사용\n",
    "OG_df = OG_df[\"Title\"].tolist()"
   ]
  },
  {
   "cell_type": "markdown",
   "id": "e999e17b",
   "metadata": {},
   "source": [
    "### Rating_Data\n",
    "</br>  \n",
    "__✅ COLUMNS__  \n",
    "</br>  \n",
    "\n",
    "| TITEL | 영화, 티비쇼의 제목  |\n",
    "| --- | --- |\n",
    "| AVG | 영화, 티비쇼의 평균 평점 |\n",
    "| TOTAL | 총 평점 합 |\n",
    "| ALL ~| 평점을 매긴 전체 시청자수(연령별) |\n",
    "| MALES ~  | 평점을 매긴 남성 시청자수(연령별) |\n",
    "| FEMAELS ~ | 평점을 매긴 여성 시청자수(연령별) |\n",
    "| ALL_RANK ~| 전체 시청자수(연령별)의 평점 |\n",
    "| MAELS_RANK ~ | 남성 시청자수(연령별)의 평점 |\n",
    "| FEMAELS_RANK ~ | 여성 시청자수(연령별)의 평점 |\n"
   ]
  },
  {
   "cell_type": "code",
   "execution_count": 10,
   "id": "5eedc203",
   "metadata": {},
   "outputs": [
    {
     "data": {
      "text/html": [
       "<div>\n",
       "<style scoped>\n",
       "    .dataframe tbody tr th:only-of-type {\n",
       "        vertical-align: middle;\n",
       "    }\n",
       "\n",
       "    .dataframe tbody tr th {\n",
       "        vertical-align: top;\n",
       "    }\n",
       "\n",
       "    .dataframe thead th {\n",
       "        text-align: right;\n",
       "    }\n",
       "</style>\n",
       "<table border=\"1\" class=\"dataframe\">\n",
       "  <thead>\n",
       "    <tr style=\"text-align: right;\">\n",
       "      <th></th>\n",
       "      <th>Title</th>\n",
       "      <th>Avg</th>\n",
       "      <th>Total</th>\n",
       "      <th>Total_males</th>\n",
       "      <th>Total_Females</th>\n",
       "      <th>All_below_18</th>\n",
       "      <th>All_18_29</th>\n",
       "      <th>All_30_44</th>\n",
       "      <th>All_over_45</th>\n",
       "      <th>Males_below_18</th>\n",
       "      <th>...</th>\n",
       "      <th>Males_rank_below_18</th>\n",
       "      <th>Males_rank_18_29</th>\n",
       "      <th>Males_rank_30_44</th>\n",
       "      <th>Males_rank_over_45</th>\n",
       "      <th>Females_rank_below_18</th>\n",
       "      <th>Females_rank_18_29</th>\n",
       "      <th>Females_rank_30_44</th>\n",
       "      <th>Females_rank_over_45</th>\n",
       "      <th>Avg_rank_males</th>\n",
       "      <th>Avg_rank_Females</th>\n",
       "    </tr>\n",
       "  </thead>\n",
       "  <tbody>\n",
       "    <tr>\n",
       "      <th>0</th>\n",
       "      <td>Dick Johnson Is Dead</td>\n",
       "      <td>7.4</td>\n",
       "      <td>6241.0</td>\n",
       "      <td>3780.0</td>\n",
       "      <td>592.0</td>\n",
       "      <td>12.0</td>\n",
       "      <td>1050.0</td>\n",
       "      <td>2321.0</td>\n",
       "      <td>817.0</td>\n",
       "      <td>10.0</td>\n",
       "      <td>...</td>\n",
       "      <td>7.9</td>\n",
       "      <td>7.7</td>\n",
       "      <td>7.4</td>\n",
       "      <td>7.1</td>\n",
       "      <td>8.0</td>\n",
       "      <td>7.8</td>\n",
       "      <td>7.4</td>\n",
       "      <td>7.3</td>\n",
       "      <td>7.4</td>\n",
       "      <td>7.5</td>\n",
       "    </tr>\n",
       "    <tr>\n",
       "      <th>1</th>\n",
       "      <td>Blood &amp; Water</td>\n",
       "      <td>6.7</td>\n",
       "      <td>2952.0</td>\n",
       "      <td>603.0</td>\n",
       "      <td>867.0</td>\n",
       "      <td>10.0</td>\n",
       "      <td>416.0</td>\n",
       "      <td>644.0</td>\n",
       "      <td>281.0</td>\n",
       "      <td>4.0</td>\n",
       "      <td>...</td>\n",
       "      <td>5.5</td>\n",
       "      <td>6.6</td>\n",
       "      <td>5.9</td>\n",
       "      <td>4.9</td>\n",
       "      <td>5.0</td>\n",
       "      <td>6.9</td>\n",
       "      <td>7.0</td>\n",
       "      <td>7.0</td>\n",
       "      <td>5.9</td>\n",
       "      <td>7.0</td>\n",
       "    </tr>\n",
       "    <tr>\n",
       "      <th>2</th>\n",
       "      <td>Ganglands</td>\n",
       "      <td>7.0</td>\n",
       "      <td>2349.0</td>\n",
       "      <td>1297.0</td>\n",
       "      <td>117.0</td>\n",
       "      <td>1.0</td>\n",
       "      <td>99.0</td>\n",
       "      <td>574.0</td>\n",
       "      <td>648.0</td>\n",
       "      <td>1.0</td>\n",
       "      <td>...</td>\n",
       "      <td>6.0</td>\n",
       "      <td>6.9</td>\n",
       "      <td>6.8</td>\n",
       "      <td>7.0</td>\n",
       "      <td>0.0</td>\n",
       "      <td>5.8</td>\n",
       "      <td>6.9</td>\n",
       "      <td>7.0</td>\n",
       "      <td>6.9</td>\n",
       "      <td>7.0</td>\n",
       "    </tr>\n",
       "    <tr>\n",
       "      <th>3</th>\n",
       "      <td>Jailbirds New Orleans</td>\n",
       "      <td>6.7</td>\n",
       "      <td>194.0</td>\n",
       "      <td>57.0</td>\n",
       "      <td>60.0</td>\n",
       "      <td>0.0</td>\n",
       "      <td>19.0</td>\n",
       "      <td>63.0</td>\n",
       "      <td>30.0</td>\n",
       "      <td>0.0</td>\n",
       "      <td>...</td>\n",
       "      <td>0.0</td>\n",
       "      <td>6.4</td>\n",
       "      <td>6.3</td>\n",
       "      <td>6.6</td>\n",
       "      <td>0.0</td>\n",
       "      <td>6.2</td>\n",
       "      <td>6.9</td>\n",
       "      <td>6.9</td>\n",
       "      <td>6.5</td>\n",
       "      <td>6.9</td>\n",
       "    </tr>\n",
       "    <tr>\n",
       "      <th>4</th>\n",
       "      <td>Kota Factory</td>\n",
       "      <td>9.3</td>\n",
       "      <td>66527.0</td>\n",
       "      <td>19278.0</td>\n",
       "      <td>984.0</td>\n",
       "      <td>144.0</td>\n",
       "      <td>10004.0</td>\n",
       "      <td>5687.0</td>\n",
       "      <td>340.0</td>\n",
       "      <td>134.0</td>\n",
       "      <td>...</td>\n",
       "      <td>9.6</td>\n",
       "      <td>9.2</td>\n",
       "      <td>8.5</td>\n",
       "      <td>6.4</td>\n",
       "      <td>4.3</td>\n",
       "      <td>9.2</td>\n",
       "      <td>7.5</td>\n",
       "      <td>5.7</td>\n",
       "      <td>9.0</td>\n",
       "      <td>8.5</td>\n",
       "    </tr>\n",
       "  </tbody>\n",
       "</table>\n",
       "<p>5 rows × 32 columns</p>\n",
       "</div>"
      ],
      "text/plain": [
       "                   Title  Avg    Total  Total_males  Total_Females  \\\n",
       "0   Dick Johnson Is Dead  7.4   6241.0       3780.0          592.0   \n",
       "1          Blood & Water  6.7   2952.0        603.0          867.0   \n",
       "2              Ganglands  7.0   2349.0       1297.0          117.0   \n",
       "3  Jailbirds New Orleans  6.7    194.0         57.0           60.0   \n",
       "4           Kota Factory  9.3  66527.0      19278.0          984.0   \n",
       "\n",
       "   All_below_18  All_18_29  All_30_44  All_over_45  Males_below_18  ...  \\\n",
       "0          12.0     1050.0     2321.0        817.0            10.0  ...   \n",
       "1          10.0      416.0      644.0        281.0             4.0  ...   \n",
       "2           1.0       99.0      574.0        648.0             1.0  ...   \n",
       "3           0.0       19.0       63.0         30.0             0.0  ...   \n",
       "4         144.0    10004.0     5687.0        340.0           134.0  ...   \n",
       "\n",
       "   Males_rank_below_18  Males_rank_18_29  Males_rank_30_44  \\\n",
       "0                  7.9               7.7               7.4   \n",
       "1                  5.5               6.6               5.9   \n",
       "2                  6.0               6.9               6.8   \n",
       "3                  0.0               6.4               6.3   \n",
       "4                  9.6               9.2               8.5   \n",
       "\n",
       "   Males_rank_over_45  Females_rank_below_18  Females_rank_18_29  \\\n",
       "0                 7.1                    8.0                 7.8   \n",
       "1                 4.9                    5.0                 6.9   \n",
       "2                 7.0                    0.0                 5.8   \n",
       "3                 6.6                    0.0                 6.2   \n",
       "4                 6.4                    4.3                 9.2   \n",
       "\n",
       "   Females_rank_30_44 Females_rank_over_45  Avg_rank_males  Avg_rank_Females  \n",
       "0                 7.4                  7.3             7.4               7.5  \n",
       "1                 7.0                  7.0             5.9               7.0  \n",
       "2                 6.9                  7.0             6.9               7.0  \n",
       "3                 6.9                  6.9             6.5               6.9  \n",
       "4                 7.5                  5.7             9.0               8.5  \n",
       "\n",
       "[5 rows x 32 columns]"
      ]
     },
     "execution_count": 10,
     "metadata": {},
     "output_type": "execute_result"
    }
   ],
   "source": [
    "Rating_df = pd.read_csv(\"../data/Netflix_Rating.csv\")\n",
    "Rating_df.head()\n"
   ]
  },
  {
   "cell_type": "markdown",
   "id": "1339dc29",
   "metadata": {},
   "source": [
    "### Netflix_Data + Netflix_Original Data +  Rating_Data"
   ]
  },
  {
   "cell_type": "code",
   "execution_count": 11,
   "id": "50c074ed",
   "metadata": {},
   "outputs": [
    {
     "data": {
      "text/plain": [
       "0    8301\n",
       "1     506\n",
       "Name: Original, dtype: int64"
      ]
     },
     "execution_count": 11,
     "metadata": {},
     "output_type": "execute_result"
    }
   ],
   "source": [
    "# Netflix_Data + Netflix_Original Data\n",
    "og = []\n",
    "for name in Net_df.title.values:\n",
    "    if name in OG_df:\n",
    "        og.append(1)\n",
    "    else:\n",
    "        og.append(0)\n",
    "\n",
    "Net_df[\"Original\"] = og\n",
    "Net_df[\"Original\"].value_counts()"
   ]
  },
  {
   "cell_type": "code",
   "execution_count": 12,
   "id": "6f78635d",
   "metadata": {},
   "outputs": [
    {
     "data": {
      "text/html": [
       "<div>\n",
       "<style scoped>\n",
       "    .dataframe tbody tr th:only-of-type {\n",
       "        vertical-align: middle;\n",
       "    }\n",
       "\n",
       "    .dataframe tbody tr th {\n",
       "        vertical-align: top;\n",
       "    }\n",
       "\n",
       "    .dataframe thead th {\n",
       "        text-align: right;\n",
       "    }\n",
       "</style>\n",
       "<table border=\"1\" class=\"dataframe\">\n",
       "  <thead>\n",
       "    <tr style=\"text-align: right;\">\n",
       "      <th></th>\n",
       "      <th>show_id</th>\n",
       "      <th>type</th>\n",
       "      <th>director</th>\n",
       "      <th>title</th>\n",
       "      <th>cast</th>\n",
       "      <th>country</th>\n",
       "      <th>date_added</th>\n",
       "      <th>description</th>\n",
       "      <th>duration</th>\n",
       "      <th>listed_in</th>\n",
       "      <th>...</th>\n",
       "      <th>Males_rank_below_18</th>\n",
       "      <th>Males_rank_18_29</th>\n",
       "      <th>Males_rank_30_44</th>\n",
       "      <th>Males_rank_over_45</th>\n",
       "      <th>Females_rank_below_18</th>\n",
       "      <th>Females_rank_18_29</th>\n",
       "      <th>Females_rank_30_44</th>\n",
       "      <th>Females_rank_over_45</th>\n",
       "      <th>Avg_rank_males</th>\n",
       "      <th>Avg_rank_Females</th>\n",
       "    </tr>\n",
       "  </thead>\n",
       "  <tbody>\n",
       "    <tr>\n",
       "      <th>0</th>\n",
       "      <td>s1</td>\n",
       "      <td>Movie</td>\n",
       "      <td>Kirsten Johnson</td>\n",
       "      <td>Dick Johnson Is Dead</td>\n",
       "      <td>Michael Hilow, Dick Johnson, Chad Knorr, Vasth...</td>\n",
       "      <td>United States</td>\n",
       "      <td>September 25, 2021</td>\n",
       "      <td>As her father nears the end of his life, filmm...</td>\n",
       "      <td>90 min</td>\n",
       "      <td>Documentaries</td>\n",
       "      <td>...</td>\n",
       "      <td>7.9</td>\n",
       "      <td>7.7</td>\n",
       "      <td>7.4</td>\n",
       "      <td>7.1</td>\n",
       "      <td>8.0</td>\n",
       "      <td>7.8</td>\n",
       "      <td>7.4</td>\n",
       "      <td>7.3</td>\n",
       "      <td>7.4</td>\n",
       "      <td>7.5</td>\n",
       "    </tr>\n",
       "    <tr>\n",
       "      <th>1</th>\n",
       "      <td>s2</td>\n",
       "      <td>TV Show</td>\n",
       "      <td>Nosipho Dumisa</td>\n",
       "      <td>Blood &amp; Water</td>\n",
       "      <td>Ama Qamata, Khosi Ngema, Gail Mabalane, Thaban...</td>\n",
       "      <td>South Africa</td>\n",
       "      <td>September 24, 2021</td>\n",
       "      <td>After crossing paths at a party, a Cape Town t...</td>\n",
       "      <td>2 Seasons</td>\n",
       "      <td>International TV Shows, TV Dramas, TV Mysteries</td>\n",
       "      <td>...</td>\n",
       "      <td>5.5</td>\n",
       "      <td>6.6</td>\n",
       "      <td>5.9</td>\n",
       "      <td>4.9</td>\n",
       "      <td>5.0</td>\n",
       "      <td>6.9</td>\n",
       "      <td>7.0</td>\n",
       "      <td>7.0</td>\n",
       "      <td>5.9</td>\n",
       "      <td>7.0</td>\n",
       "    </tr>\n",
       "    <tr>\n",
       "      <th>2</th>\n",
       "      <td>s3</td>\n",
       "      <td>TV Show</td>\n",
       "      <td>Julien Leclercq</td>\n",
       "      <td>Ganglands</td>\n",
       "      <td>Sami Bouajila, Tracy Gotoas, Samuel Jouy, Nabi...</td>\n",
       "      <td>France</td>\n",
       "      <td>September 24, 2021</td>\n",
       "      <td>To protect his family from a powerful drug lor...</td>\n",
       "      <td>1 Season</td>\n",
       "      <td>Crime TV Shows, International TV Shows, TV Act...</td>\n",
       "      <td>...</td>\n",
       "      <td>6.0</td>\n",
       "      <td>6.9</td>\n",
       "      <td>6.8</td>\n",
       "      <td>7.0</td>\n",
       "      <td>0.0</td>\n",
       "      <td>5.8</td>\n",
       "      <td>6.9</td>\n",
       "      <td>7.0</td>\n",
       "      <td>6.9</td>\n",
       "      <td>7.0</td>\n",
       "    </tr>\n",
       "    <tr>\n",
       "      <th>3</th>\n",
       "      <td>s4</td>\n",
       "      <td>TV Show</td>\n",
       "      <td>Jacquelyn C. Migdal</td>\n",
       "      <td>Jailbirds New Orleans</td>\n",
       "      <td>NONE</td>\n",
       "      <td>United States</td>\n",
       "      <td>September 24, 2021</td>\n",
       "      <td>Feuds, flirtations and toilet talk go down amo...</td>\n",
       "      <td>1 Season</td>\n",
       "      <td>Docuseries, Reality TV</td>\n",
       "      <td>...</td>\n",
       "      <td>0.0</td>\n",
       "      <td>6.4</td>\n",
       "      <td>6.3</td>\n",
       "      <td>6.6</td>\n",
       "      <td>0.0</td>\n",
       "      <td>6.2</td>\n",
       "      <td>6.9</td>\n",
       "      <td>6.9</td>\n",
       "      <td>6.5</td>\n",
       "      <td>6.9</td>\n",
       "    </tr>\n",
       "    <tr>\n",
       "      <th>4</th>\n",
       "      <td>s5</td>\n",
       "      <td>TV Show</td>\n",
       "      <td>Raghav Subbu</td>\n",
       "      <td>Kota Factory</td>\n",
       "      <td>Mayur More, Jitendra Kumar, Ranjan Raj, Alam K...</td>\n",
       "      <td>India</td>\n",
       "      <td>September 24, 2021</td>\n",
       "      <td>In a city of coaching centers known to train I...</td>\n",
       "      <td>2 Seasons</td>\n",
       "      <td>International TV Shows, Romantic TV Shows, TV ...</td>\n",
       "      <td>...</td>\n",
       "      <td>9.6</td>\n",
       "      <td>9.2</td>\n",
       "      <td>8.5</td>\n",
       "      <td>6.4</td>\n",
       "      <td>4.3</td>\n",
       "      <td>9.2</td>\n",
       "      <td>7.5</td>\n",
       "      <td>5.7</td>\n",
       "      <td>9.0</td>\n",
       "      <td>8.5</td>\n",
       "    </tr>\n",
       "  </tbody>\n",
       "</table>\n",
       "<p>5 rows × 45 columns</p>\n",
       "</div>"
      ],
      "text/plain": [
       "  show_id     type             director                  title  \\\n",
       "0      s1    Movie      Kirsten Johnson   Dick Johnson Is Dead   \n",
       "1      s2  TV Show       Nosipho Dumisa          Blood & Water   \n",
       "2      s3  TV Show      Julien Leclercq              Ganglands   \n",
       "3      s4  TV Show  Jacquelyn C. Migdal  Jailbirds New Orleans   \n",
       "4      s5  TV Show         Raghav Subbu           Kota Factory   \n",
       "\n",
       "                                                cast        country  \\\n",
       "0  Michael Hilow, Dick Johnson, Chad Knorr, Vasth...  United States   \n",
       "1  Ama Qamata, Khosi Ngema, Gail Mabalane, Thaban...   South Africa   \n",
       "2  Sami Bouajila, Tracy Gotoas, Samuel Jouy, Nabi...         France   \n",
       "3                                               NONE  United States   \n",
       "4  Mayur More, Jitendra Kumar, Ranjan Raj, Alam K...          India   \n",
       "\n",
       "           date_added                                        description  \\\n",
       "0  September 25, 2021  As her father nears the end of his life, filmm...   \n",
       "1  September 24, 2021  After crossing paths at a party, a Cape Town t...   \n",
       "2  September 24, 2021  To protect his family from a powerful drug lor...   \n",
       "3  September 24, 2021  Feuds, flirtations and toilet talk go down amo...   \n",
       "4  September 24, 2021  In a city of coaching centers known to train I...   \n",
       "\n",
       "    duration                                          listed_in  ...  \\\n",
       "0     90 min                                      Documentaries  ...   \n",
       "1  2 Seasons    International TV Shows, TV Dramas, TV Mysteries  ...   \n",
       "2   1 Season  Crime TV Shows, International TV Shows, TV Act...  ...   \n",
       "3   1 Season                             Docuseries, Reality TV  ...   \n",
       "4  2 Seasons  International TV Shows, Romantic TV Shows, TV ...  ...   \n",
       "\n",
       "  Males_rank_below_18  Males_rank_18_29  Males_rank_30_44 Males_rank_over_45  \\\n",
       "0                 7.9               7.7               7.4                7.1   \n",
       "1                 5.5               6.6               5.9                4.9   \n",
       "2                 6.0               6.9               6.8                7.0   \n",
       "3                 0.0               6.4               6.3                6.6   \n",
       "4                 9.6               9.2               8.5                6.4   \n",
       "\n",
       "   Females_rank_below_18  Females_rank_18_29  Females_rank_30_44  \\\n",
       "0                    8.0                 7.8                 7.4   \n",
       "1                    5.0                 6.9                 7.0   \n",
       "2                    0.0                 5.8                 6.9   \n",
       "3                    0.0                 6.2                 6.9   \n",
       "4                    4.3                 9.2                 7.5   \n",
       "\n",
       "   Females_rank_over_45  Avg_rank_males  Avg_rank_Females  \n",
       "0                   7.3             7.4               7.5  \n",
       "1                   7.0             5.9               7.0  \n",
       "2                   7.0             6.9               7.0  \n",
       "3                   6.9             6.5               6.9  \n",
       "4                   5.7             9.0               8.5  \n",
       "\n",
       "[5 rows x 45 columns]"
      ]
     },
     "execution_count": 12,
     "metadata": {},
     "output_type": "execute_result"
    }
   ],
   "source": [
    "# Netfilx_Data +  Raing_Data\n",
    "df = pd.merge(Net_df, Rating_df, left_on= \"title\", right_on= \"Title\")\n",
    "df.head()"
   ]
  },
  {
   "cell_type": "markdown",
   "id": "0d289a35",
   "metadata": {},
   "source": [
    "## 2. 데이터 전처리\n",
    "\n",
    "- 입력오류 확인 및 처리\n",
    "- 결측치 수정 및 제거\n",
    "    - 결측치 확인 및 크롤링으로 추가\n",
    "    - 확인되지 않는 행 제거\n",
    "    - 사용하지 않는 컬럼 제거\n",
    "- Feature engineering\n",
    "    - 영화 관람 등급, 티비 관람 등급\n",
    "    - score(평점, 리뷰 수)...\n",
    "        "
   ]
  },
  {
   "cell_type": "markdown",
   "id": "c2824723",
   "metadata": {},
   "source": [
    "### 입력오류 확인 및 처리"
   ]
  },
  {
   "cell_type": "code",
   "execution_count": null,
   "id": "1182d7b7",
   "metadata": {},
   "outputs": [],
   "source": [
    "# 각 칼럼별 unique값을 확인해 보기\n",
    "col = df.columns()\n",
    "uni_list = [{col[i]:df[col[i]].unique()} for i in range(len(col))]\n",
    "for i in range(len(col)):\n",
    "    print(uni_list[i])"
   ]
  },
  {
   "cell_type": "code",
   "execution_count": 15,
   "id": "84d59011",
   "metadata": {},
   "outputs": [
    {
     "data": {
      "text/plain": [
       "array(['PG-13', 'TV-MA', 'PG', 'TV-14', 'TV-PG', 'TV-Y', 'TV-Y7', 'R',\n",
       "       'TV-G', 'G', 'NC-17', nan, 'NR', 'TV-Y7-FV', 'UR'], dtype=object)"
      ]
     },
     "execution_count": 15,
     "metadata": {},
     "output_type": "execute_result"
    }
   ],
   "source": [
    "# rating 칼럼에서 발생한 입력오류 처리\n",
    "index = df[df['rating'] == '66 min'].index \n",
    "df.loc[index,'duration'] = df.loc[index,'rating']\n",
    "df.loc[index,'rating'] = np.nan\n",
    "\n",
    "index = df[df['rating'] == '74 min'].index\n",
    "df.loc[index,'duration'] = df.loc[index,'rating']\n",
    "df.loc[index,'rating'] = np.nan\n",
    "\n",
    "index = df[df['rating'] == '84 min'].index\n",
    "df.loc[index,'duration'] = df.loc[index,'rating']\n",
    "df.loc[index,'rating'] = np.nan\n",
    "\n",
    "df['rating'].unique()"
   ]
  },
  {
   "cell_type": "markdown",
   "id": "a14a993f",
   "metadata": {},
   "source": [
    "### 결측치 수정 및 제거"
   ]
  },
  {
   "cell_type": "markdown",
   "id": "2d2878c0",
   "metadata": {},
   "source": [
    "[Netflix raw 데이터에서 director, cast, country 칼럼의 결측값 채우기 - Crawling]('https://github.com/DONGYEONKANG/Datathon/blob/main/dongyeon/Missing_data_crawler.ipynb')"
   ]
  },
  {
   "cell_type": "markdown",
   "id": "ec8aa33c",
   "metadata": {},
   "source": [
    "|First Image|Second Image|\n",
    "|:-:|:-:|\n",
    "|<img src = '../data/crawling.png' width =\"300\" height = \"220\">|<img src = '../data/crawling2.png' width =\"300\" height = \"220\">|\n",
    "|First Image|Second Image|\n",
    "|<img src = '../data/crawling3.png' width =\"300\" height = \"220\">|<img src = '../data/crawling4.png' width =\"300\" height = \"220\">|\n"
   ]
  },
  {
   "cell_type": "markdown",
   "id": "b7e65a0e",
   "metadata": {},
   "source": [
    "[Netflix 평점 데이터 추가하기 - Crawling](https://github.com/DONGYEONKANG/Datathon/blob/main/dongyeon/Rating_data_crawler.ipynb)"
   ]
  },
  {
   "cell_type": "code",
   "execution_count": null,
   "id": "feb430c7",
   "metadata": {},
   "outputs": [],
   "source": []
  },
  {
   "cell_type": "markdown",
   "id": "ece58971",
   "metadata": {},
   "source": [
    "|First Image|Second Image|Third Image|\n",
    "|:-:|:-:|:-:|\n",
    "|<img src = '../data/crawling2-1.png' width =\"300\" height = \"220\">|<img src = '../data/crawling2-2.png' width =\"300\" height = \"220\">|<img src = '../data/crawling2-3.png' width =\"300\" height = \"220\">|\n"
   ]
  },
  {
   "cell_type": "code",
   "execution_count": null,
   "id": "962f788b",
   "metadata": {},
   "outputs": [],
   "source": []
  },
  {
   "cell_type": "code",
   "execution_count": null,
   "id": "e16c8892",
   "metadata": {},
   "outputs": [],
   "source": [
    "# NOT FOUND 제거\n",
    "df.drop(df[df[\"Title_ID\"] == \"NOT FOUND\"].index, inplace=True)\n",
    "df = df.reset_index(drop=True)"
   ]
  },
  {
   "cell_type": "code",
   "execution_count": null,
   "id": "e9901850",
   "metadata": {},
   "outputs": [],
   "source": [
    "#NO RATINGS\n",
    "df.drop(df[df[\"Avg\"] == 0].index, inplace=True)\n",
    "df.reset_index(drop=True)"
   ]
  },
  {
   "cell_type": "code",
   "execution_count": null,
   "id": "d3378c74",
   "metadata": {},
   "outputs": [],
   "source": [
    "# 없는 rating data 제거 , 8807 - 202 - 10(중복있을듯 아마...) = 8598 \n",
    "df.drop(df[df[\"rating\"].isnull()].index, inplace=True)\n",
    "df = df.reset_index(drop=True)"
   ]
  },
  {
   "cell_type": "code",
   "execution_count": null,
   "id": "5f890781",
   "metadata": {},
   "outputs": [],
   "source": [
    "# 사용하지 않는 컬럼 제거\n",
    "# show_id\n",
    "# desciptions\n",
    "# Title_ID\n",
    "\n",
    "df.drop([\"show_id\", \"Title_ID\"], axis = 1, inplace=True)\n",
    "df.head()"
   ]
  },
  {
   "cell_type": "code",
   "execution_count": null,
   "id": "59b4ee62",
   "metadata": {},
   "outputs": [],
   "source": [
    "# 최종 데이터\n",
    "df.info()"
   ]
  },
  {
   "cell_type": "markdown",
   "id": "74d586c8",
   "metadata": {},
   "source": [
    "### Feature engineering"
   ]
  },
  {
   "cell_type": "markdown",
   "id": "d36cf267",
   "metadata": {},
   "source": [
    "type columns\n",
    "- 영화: 0\n",
    "- 티비쇼: 1"
   ]
  },
  {
   "cell_type": "code",
   "execution_count": null,
   "id": "631ec136",
   "metadata": {},
   "outputs": [],
   "source": [
    "def type_col(col):\n",
    "    if col == 'Movie':\n",
    "        return 0\n",
    "    else:\n",
    "        return 1\n",
    "    "
   ]
  },
  {
   "cell_type": "code",
   "execution_count": null,
   "id": "2695de19",
   "metadata": {},
   "outputs": [],
   "source": [
    "df['type'] = df[\"type\"].apply(type_col)\n",
    "df.head()"
   ]
  },
  {
   "cell_type": "markdown",
   "id": "5f38e56d",
   "metadata": {},
   "source": [
    "rating col\n",
    "- 전체관람가('G', 'PG', 'TV-Y', 'TV-7', 'TV-Y7-FV', 'TV-G'): 0\n",
    "- 12,15세 관람가('PG-13', 'TV-PG', 'TV-14'): 1\n",
    "- 15, 청불('R', 'NC-17', 'NR', 'UR', 'TV-MA'): 2 "
   ]
  },
  {
   "cell_type": "code",
   "execution_count": null,
   "id": "eebc700f",
   "metadata": {},
   "outputs": [],
   "source": [
    "def rating_col(col):\n",
    "    if col in ['G', 'PG', 'TV-Y','TV-Y7', 'TV-Y7-FV', 'TV-G']:\n",
    "        return 0\n",
    "    elif col in ['PG-13', 'TV-PG', 'TV-14']:\n",
    "        return 1\n",
    "    elif col in ['R', 'NC-17', 'NR', 'UR', 'TV-MA']:\n",
    "        return 2\n",
    "    else:\n",
    "        return col"
   ]
  },
  {
   "cell_type": "code",
   "execution_count": null,
   "id": "be9bee58",
   "metadata": {},
   "outputs": [],
   "source": [
    "df['rating'] = df[\"rating\"].apply(rating_col)\n",
    "df['rating']"
   ]
  },
  {
   "cell_type": "markdown",
   "id": "ea1f512c",
   "metadata": {},
   "source": [
    "### Score : 평점 * 리뷰 수"
   ]
  },
  {
   "cell_type": "code",
   "execution_count": null,
   "id": "2aa50ec3",
   "metadata": {},
   "outputs": [],
   "source": [
    "df[\"Score\"] = df[\"Avg\"] * df[\"Total\"] \n",
    "df[\"Score_normal\"] = (df[\"Score\"] - df[\"Score\"].mean())/df[\"Score\"].std() + 1 #정규화"
   ]
  },
  {
   "cell_type": "code",
   "execution_count": null,
   "id": "8fbbed1b",
   "metadata": {},
   "outputs": [],
   "source": []
  },
  {
   "cell_type": "code",
   "execution_count": null,
   "id": "976c8841",
   "metadata": {},
   "outputs": [],
   "source": []
  },
  {
   "cell_type": "code",
   "execution_count": null,
   "id": "8d3ecd82",
   "metadata": {},
   "outputs": [],
   "source": []
  },
  {
   "cell_type": "markdown",
   "id": "fd3f05a8",
   "metadata": {},
   "source": [
    "### 동연\n",
    "- folium 사용해서 Country 시각화 조져보기!"
   ]
  },
  {
   "cell_type": "code",
   "execution_count": null,
   "id": "22c68eb2",
   "metadata": {},
   "outputs": [],
   "source": [
    "cntry = []\n",
    "cntry_strip = []\n",
    "for i in df[\"country\"].str.split(\",\"):\n",
    "    cntry += i\n",
    "    \n",
    "for cnty in cntry:\n",
    "#     print(cnty.strip())\n",
    "    cntry_strip.append(cnty.strip())\n",
    "    \n",
    "country = pd.Series(cntry_strip, name = \"country\")\n",
    "cnt_country = pd.Series(cntry_strip).value_counts()"
   ]
  },
  {
   "cell_type": "code",
   "execution_count": null,
   "id": "f15fc0c9",
   "metadata": {},
   "outputs": [],
   "source": [
    "world = pd.read_csv(\"../data/worldcities.csv\")\n",
    "world = world[[\"city\", \"country\", \"lat\", \"lng\"]]\n",
    "world.head()"
   ]
  },
  {
   "cell_type": "code",
   "execution_count": null,
   "id": "d4f90726",
   "metadata": {},
   "outputs": [],
   "source": [
    "world.info()"
   ]
  },
  {
   "cell_type": "code",
   "execution_count": null,
   "id": "bec09ab8",
   "metadata": {},
   "outputs": [],
   "source": [
    "uni_world = world.drop_duplicates(\"country\")"
   ]
  },
  {
   "cell_type": "code",
   "execution_count": null,
   "id": "cdc4d3e2",
   "metadata": {},
   "outputs": [],
   "source": [
    "country_lat_lng = pd.merge(country, uni_world, on = \"country\")\n",
    "country_lat_lng.value_counts()"
   ]
  },
  {
   "cell_type": "code",
   "execution_count": null,
   "id": "85029bb8",
   "metadata": {},
   "outputs": [],
   "source": [
    "top_10 = pd.DataFrame(country_lat_lng[\"country\"].value_counts())[:10].style.background_gradient('Blues')\n",
    "top_10"
   ]
  },
  {
   "cell_type": "code",
   "execution_count": null,
   "id": "dc51c3e8",
   "metadata": {},
   "outputs": [],
   "source": [
    "from folium.plugins import MarkerCluster"
   ]
  },
  {
   "cell_type": "code",
   "execution_count": null,
   "id": "1ff03499",
   "metadata": {
    "scrolled": true
   },
   "outputs": [],
   "source": [
    "\n",
    "# 위도(latitude) 경도(longitude)\n",
    "latitude = country_lat_lng['lat']\n",
    "longitude = country_lat_lng['lng']\n",
    "\n",
    "Y = 37.5722440\n",
    "X = 126.9759352\n",
    "main_location = (Y, X) \n",
    "\n",
    "m = folium.Map(location=main_location, zoom_start=4, tiles='cartodbpositron')\n",
    "\n",
    "marker_cluster = MarkerCluster().add_to(m)\n",
    "\n",
    "for x,y in zip(latitude, longitude):\n",
    "    folium.Marker([x,y], icon = folium.Icon(color = \"green\")).add_to(marker_cluster)\n",
    "m"
   ]
  },
  {
   "cell_type": "code",
   "execution_count": null,
   "id": "6103014d",
   "metadata": {},
   "outputs": [],
   "source": []
  },
  {
   "cell_type": "code",
   "execution_count": null,
   "id": "20e67335",
   "metadata": {},
   "outputs": [],
   "source": []
  },
  {
   "cell_type": "markdown",
   "id": "c3ac83da",
   "metadata": {},
   "source": [
    "### 전반적인 영화 및 TV 트렌드 추이"
   ]
  },
  {
   "cell_type": "code",
   "execution_count": null,
   "id": "64cc2a37",
   "metadata": {},
   "outputs": [],
   "source": [
    "year_type_df = df.groupby([\"type\", \"release_year\"])[\"Score_normal\"].mean().unstack().rename(index = {0:\"movie\", 1:\"TV\"})\n",
    "year_type_cnt_df = df.groupby([\"type\", \"release_year\"])[\"Score_normal\"].count().unstack().rename(index = {0:\"movie\", 1:\"TV\"})\n",
    "year_type_avg_df = df.groupby([\"type\", \"release_year\"])[\"Avg\"].mean().unstack().rename(index = {0:\"movie\", 1:\"TV\"})\n",
    "year_type_total_df = df.groupby([\"type\", \"release_year\"])[\"Total\"].mean().unstack().rename(index = {0:\"movie\", 1:\"TV\"})\n",
    "\n",
    "# 90년대 이후 데이터로만\n",
    "cols = [1990, 1991, 1992, 1993, 1994, 1995, 1996, 1997, 1998, 1999, 2000, 2001, 2002, 2003, 2004, 2005, 2006, 2007, 2008, 2009, 2010, 2011, 2012, 2013, 2014, 2015, 2016, 2017, 2018, 2019, 2020, 2021]\n",
    "year_type_df = year_type_df[cols]\n",
    "year_type_cnt_df = year_type_cnt_df[cols]\n",
    "year_type_avg_df = year_type_avg_df[cols]\n",
    "year_type_total_df = year_type_total_df[cols]\n",
    "\n",
    "\n",
    "plt.figure(figsize=(15,15))\n",
    "# year_type_df.T.plot(marker = \"o\",figsize = (10,10))\n",
    "\n",
    "plt.subplot(221)\n",
    "sns.lineplot(data = year_type_df.T, marker = \"o\", linewidth=2)\n",
    "plt.title(\"Plot of Score(normal) according to release_year(>1990)\", fontsize= 15)\n",
    "plt.legend(loc='best', ncol = 2, fontsize = 15, frameon=True)\n",
    "plt.xlabel(\"releas_year\",fontsize = 20)\n",
    "plt.ylabel(\"Score(normal)\" ,fontsize = 20)\n",
    "plt.axvspan(2015, 2022, facecolor='gray', alpha = 0.5)\n",
    "\n",
    "\n",
    "plt.subplot(222)\n",
    "sns.lineplot(data=year_type_cnt_df.T, marker =\"o\", linewidth=2)\n",
    "plt.legend(loc='best', ncol = 2, fontsize = 15, frameon=True)\n",
    "plt.xlabel(\"release_year\",fontsize = 20)\n",
    "plt.ylabel(\"Count\" ,fontsize = 20)\n",
    "plt.title(\"Plot of ...\", fontsize= 15)\n",
    "plt.axvspan(2015, 2022, facecolor='gray', alpha = 0.5)\n",
    "\n",
    "plt.subplot(223)\n",
    "sns.lineplot(data = year_type_avg_df.T, marker = \"o\", linewidth=2)\n",
    "plt.title(\"\", fontsize= 15)\n",
    "plt.legend(loc='best', ncol = 2, fontsize = 15, frameon=True)\n",
    "plt.xlabel(\"release_year\",fontsize = 20)\n",
    "plt.ylabel(\"Avg(Star)\" ,fontsize = 20)\n",
    "plt.axvspan(2015, 2022, facecolor='gray', alpha = 0.5)\n",
    "\n",
    "plt.subplot(224)\n",
    "sns.lineplot(data = year_type_total_df.T, marker = \"o\", linewidth=2)\n",
    "plt.title(\"\", fontsize= 15)\n",
    "plt.legend(loc='best', ncol = 2, fontsize = 15, frameon=True)\n",
    "plt.xlabel(\"release_year\",fontsize = 20)\n",
    "plt.ylabel(\"Total\" ,fontsize = 20)\n",
    "plt.axvspan(2015, 2022, facecolor='gray', alpha = 0.5)\n",
    "\n",
    "# 전반적인 부분에 대해서,..!!!\n",
    "# add_dated,..\n",
    "\n",
    "plt.show()"
   ]
  },
  {
   "cell_type": "markdown",
   "id": "76725e48",
   "metadata": {},
   "source": [
    "- 전체적으로 현대에 가까워 질 수록 영화보다는 TV Series의 Score가 높아지는 것을 볼 수 있습니다.\n",
    "- 작품 수 또한 영화의 작품 수가 항상 TV Series보다 많은 것을 확인 할 수 있지만, 2020년에는 역전 된 것을 알 수 있습니다. 이는 TV는 시리즈 물이기 때문에 당연하게도 영화보다는 작품 수가 적는게 당연합니다."
   ]
  },
  {
   "cell_type": "code",
   "execution_count": null,
   "id": "b0c56055",
   "metadata": {},
   "outputs": [],
   "source": [
    "genres = []\n",
    "years = []\n",
    "flg = len(genres)\n",
    "for genre, year in zip(df[df[\"type\"] == 0][\"listed_in\"], df[df[\"type\"] == 0][\"release_year\"]):\n",
    "    genres += genre\n",
    "    c = len(genres) - flg\n",
    "    flg = len(genres)\n",
    "    years += [year] * c\n",
    "    \n",
    "gnre = []\n",
    "for genre in genres:\n",
    "    gnre.append(genre.strip())"
   ]
  },
  {
   "cell_type": "code",
   "execution_count": null,
   "id": "548b4e19",
   "metadata": {
    "scrolled": false
   },
   "outputs": [],
   "source": [
    "gnre_yrs_df = pd.DataFrame({\"genre\" :gnre, \"years\" : years })\n",
    "gnre_yrs_df = gnre_yrs_df[gnre_yrs_df[\"years\"] >= 1990]\n",
    "\n",
    "gnre_yrs_df = gnre_yrs_df.groupby([\"genre\", \"years\"]).size().unstack()\n",
    "# drop = ['Independent Movies', 'International Movies', 'Movies']\n",
    "# gnre_yrs_df = gnre_yrs_df.drop(drop)\n",
    "\n",
    "gnre_yrs_df = gnre_yrs_df.fillna(0)\n",
    "\n",
    "plt.figure(figsize=(20,10))\n",
    "sns.lineplot(data = gnre_yrs_df.T, palette= \"Paired\", linewidth = 2)\n",
    "plt.show()"
   ]
  },
  {
   "cell_type": "code",
   "execution_count": null,
   "id": "2bc25a7a",
   "metadata": {},
   "outputs": [],
   "source": [
    "# 연도별 장르, 드라마\n",
    "\n",
    "genres = []\n",
    "years = []\n",
    "flg = len(genres)\n",
    "for genre, year in zip(df[df[\"type\"] == 1][\"listed_in\"], df[df[\"type\"] == 1][\"release_year\"]):\n",
    "    genres += genre\n",
    "    c = len(genres) - flg\n",
    "    flg = len(genres)\n",
    "    years += [year] * c\n",
    "    \n",
    "gnre = []\n",
    "for genre in genres:\n",
    "    gnre.append(genre.strip())"
   ]
  },
  {
   "cell_type": "code",
   "execution_count": null,
   "id": "5aca6044",
   "metadata": {},
   "outputs": [],
   "source": [
    "gnre_yrs_df = pd.DataFrame({\"genre\" :gnre, \"years\" : years })\n",
    "gnre_yrs_df = gnre_yrs_df[gnre_yrs_df[\"years\"] >= 1990]\n",
    "\n",
    "gnre_yrs_df = gnre_yrs_df.groupby([\"genre\", \"years\"]).size().unstack()\n",
    "# drop = ['International TV Shows']\n",
    "# gnre_yrs_df = gnre_yrs_df.drop(drop)\n",
    "\n",
    "gnre_yrs_df = gnre_yrs_df.fillna(0)\n",
    "\n",
    "plt.figure(figsize=(20,10))\n",
    "sns.lineplot(data = gnre_yrs_df.T, palette= \"Paired\", linewidth = 2)\n",
    "plt.show()"
   ]
  },
  {
   "cell_type": "code",
   "execution_count": null,
   "id": "75ca885e",
   "metadata": {},
   "outputs": [],
   "source": [
    "# 연도별 시청등급\n",
    "# 연도별 나라"
   ]
  },
  {
   "cell_type": "code",
   "execution_count": null,
   "id": "b332b34f",
   "metadata": {},
   "outputs": [],
   "source": []
  },
  {
   "cell_type": "code",
   "execution_count": null,
   "id": "1c67c490",
   "metadata": {},
   "outputs": [],
   "source": []
  },
  {
   "cell_type": "code",
   "execution_count": null,
   "id": "ecb7c1a3",
   "metadata": {},
   "outputs": [],
   "source": []
  },
  {
   "cell_type": "code",
   "execution_count": null,
   "id": "04803d84",
   "metadata": {},
   "outputs": [],
   "source": [
    "# 1. release, data_added 차이가 안나는 것들\n",
    "# 2. 넷플릭스 original"
   ]
  },
  {
   "cell_type": "code",
   "execution_count": null,
   "id": "0ee38d33",
   "metadata": {},
   "outputs": [],
   "source": [
    "def gnre_year(df: pd.DataFrame, year: str):\n",
    "    genres = df[df[\"date_added_year\"] == year][\"listed_in\"].tolist()\n",
    "    add_datedes = df[df[\"date_added_year\"] == year][\"date_added_year\"].tolist()\n",
    "\n",
    "    gnres = []\n",
    "    add_date = []\n",
    "    flg = len(gnres)\n",
    "    for gnre, add_dated in zip(genres, add_datedes):\n",
    "        gnres += gnre.split(\", \")\n",
    "\n",
    "        c = len(gnres) - flg\n",
    "        flg = len(gnres)\n",
    "        for i in range(c):\n",
    "            add_date.append(add_dated)\n",
    "\n",
    "    df = pd.DataFrame({f\"genre_{year}\": gnres, \"add_date\": add_date})\n",
    "    display(df.groupby(f\"genre_{year}\").count().sort_values(by=\"add_date\", ascending=False).head(10).style.background_gradient('Reds'))"
   ]
  },
  {
   "cell_type": "code",
   "execution_count": null,
   "id": "4b01c4cc",
   "metadata": {
    "scrolled": true
   },
   "outputs": [],
   "source": [
    "# 1. release, data_added 차이가 안나는 것들\n",
    "\n",
    "df[\"diff\"] = df[\"date_added_year\"].astype(int) - df[\"release_year\"]\n",
    "df_diff_5 = df[df[\"diff\"] >= 5]\n",
    "df_diff_5 = df_diff_5.reset_index(drop=True)"
   ]
  },
  {
   "cell_type": "code",
   "execution_count": null,
   "id": "b2c8c658",
   "metadata": {},
   "outputs": [],
   "source": [
    "gnre_year(df_diff_5 , \"2016\") # 2016, diff-5\n",
    "gnre_year(df_diff_5 , \"2017\") # 2017, diff-5\n",
    "gnre_year(df_diff_5 , \"2018\") # 2017, diff-5"
   ]
  },
  {
   "cell_type": "code",
   "execution_count": null,
   "id": "386e2214",
   "metadata": {},
   "outputs": [],
   "source": [
    "gnre_year(df_diff_5 , \"2019\") # 2019, diff-5\n",
    "gnre_year(df_diff_5 , \"2020\") # 2020, diff-5\n",
    "gnre_year(df_diff_5 , \"2021\") # 2021, diff-5"
   ]
  },
  {
   "cell_type": "code",
   "execution_count": null,
   "id": "1e7ee495",
   "metadata": {},
   "outputs": [],
   "source": [
    "# NETFLIX OG\n",
    "\n",
    "df_OG = df[df[\"Original\"] == 1]"
   ]
  },
  {
   "cell_type": "code",
   "execution_count": null,
   "id": "2074495f",
   "metadata": {},
   "outputs": [],
   "source": [
    "gnre_year(df_OG , \"2016\") # 2016, NETFLIX OG\n",
    "gnre_year(df_OG , \"2017\") # 2017, NETFLIX OG\n",
    "gnre_year(df_OG , \"2018\") # 2017, NETFLIX OG"
   ]
  },
  {
   "cell_type": "code",
   "execution_count": null,
   "id": "3459d5f1",
   "metadata": {},
   "outputs": [],
   "source": [
    "gnre_year(df_OG , \"2019\") # 2016, NETFLIX OG\n",
    "gnre_year(df_OG , \"2020\") # 2017, NETFLIX OG\n",
    "gnre_year(df_OG , \"2021\") # 2017, NETFLIX OG"
   ]
  },
  {
   "cell_type": "code",
   "execution_count": null,
   "id": "9900461f",
   "metadata": {},
   "outputs": [],
   "source": []
  },
  {
   "cell_type": "code",
   "execution_count": null,
   "id": "f40eebc2",
   "metadata": {},
   "outputs": [],
   "source": []
  }
 ],
 "metadata": {
  "interpreter": {
   "hash": "52ee2977380704a66854748a73250e0671a9318bd5b3fd45a3df9f851ae61629"
  },
  "kernelspec": {
   "display_name": "Python 3 (ipykernel)",
   "language": "python",
   "name": "python3"
  },
  "language_info": {
   "codemirror_mode": {
    "name": "ipython",
    "version": 3
   },
   "file_extension": ".py",
   "mimetype": "text/x-python",
   "name": "python",
   "nbconvert_exporter": "python",
   "pygments_lexer": "ipython3",
   "version": "3.8.12"
  }
 },
 "nbformat": 4,
 "nbformat_minor": 5
}
